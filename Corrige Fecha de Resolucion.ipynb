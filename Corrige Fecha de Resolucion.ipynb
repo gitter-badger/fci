{
 "metadata": {
  "name": "",
  "signature": "sha256:37f2cca0813928a11ee9905cf1621bffb9359ea71acb0ff17d677926a7517680"
 },
 "nbformat": 3,
 "nbformat_minor": 0,
 "worksheets": [
  {
   "cells": [
    {
     "cell_type": "code",
     "collapsed": false,
     "input": [
      "from datetime import datetime\n",
      "import pandas as pd\n",
      "import pandas.io.data\n",
      "import numpy as np\n",
      "import scipy as sp\n",
      "import matplotlib.pyplot as plt\n",
      "pd.set_option('max_columns', 50)\n",
      "%matplotlib inline"
     ],
     "language": "python",
     "metadata": {},
     "outputs": [],
     "prompt_number": 1
    },
    {
     "cell_type": "code",
     "collapsed": false,
     "input": [
      "# Leer los archivos\n",
      "ddaa_bad = pd.read_csv('Derechos_Concedidos_V_Region-xls-Petorca-WGS84-csv-V3.csv')\n",
      "ddaa_raw = pd.read_csv('Derechos_Concedidos_V_Region-xls-Petorca-raw.csv')"
     ],
     "language": "python",
     "metadata": {},
     "outputs": [],
     "prompt_number": 2
    },
    {
     "cell_type": "code",
     "collapsed": false,
     "input": [
      "print len(ddaa_bad['Fecha de Resoluci\u00f3n/ Env\u00edo al Juez/ Inscripci\u00f3n C.B.R.'])\n",
      "print len(ddaa_raw['Fecha de Resoluci\u00f3n/ Env\u00edo al Juez/ Inscripci\u00f3n C.B.R.'])"
     ],
     "language": "python",
     "metadata": {},
     "outputs": [
      {
       "output_type": "stream",
       "stream": "stdout",
       "text": [
        "2971\n",
        "2983\n"
       ]
      }
     ],
     "prompt_number": 3
    },
    {
     "cell_type": "code",
     "collapsed": false,
     "input": [
      "#ddaa_bad['indice'] = ddaa_bad.apply(lambda x: x['C\u00f3digo de \\nExpediente'] + ',' + str(x['N\u00b0 \\nSolicitud']), 1)\n",
      "#ddaa_raw['indice'] = ddaa_raw.apply(lambda x: x['C\u00f3digo de \\nExpediente'] + ',' + str(x['N\u00b0 \\nSolicitud']), 1)"
     ],
     "language": "python",
     "metadata": {},
     "outputs": [],
     "prompt_number": 4
    },
    {
     "cell_type": "code",
     "collapsed": false,
     "input": [
      "print len(ddaa_bad.columns)\n",
      "print len(ddaa_raw.columns)"
     ],
     "language": "python",
     "metadata": {},
     "outputs": [
      {
       "output_type": "stream",
       "stream": "stdout",
       "text": [
        "49\n",
        "62\n"
       ]
      }
     ],
     "prompt_number": 5
    },
    {
     "cell_type": "code",
     "collapsed": false,
     "input": [
      "ddaa_bad.set_index('N\u00b0',inplace=True)\n",
      "ddaa_raw.set_index('N\u00b0',inplace=True)"
     ],
     "language": "python",
     "metadata": {},
     "outputs": [],
     "prompt_number": 6
    },
    {
     "cell_type": "code",
     "collapsed": false,
     "input": [
      "print ddaa_bad.index.get_duplicates()\n",
      "print ddaa_raw.index.get_duplicates()"
     ],
     "language": "python",
     "metadata": {},
     "outputs": [
      {
       "output_type": "stream",
       "stream": "stdout",
       "text": [
        "[254]\n",
        "[]\n"
       ]
      }
     ],
     "prompt_number": 7
    },
    {
     "cell_type": "code",
     "collapsed": false,
     "input": [
      "#ddaa_bad.ix[254]"
     ],
     "language": "python",
     "metadata": {},
     "outputs": [],
     "prompt_number": 8
    },
    {
     "cell_type": "code",
     "collapsed": false,
     "input": [
      "ddaa_bad[\"index\"] = ddaa_bad.index\n",
      "ddaa_bad.drop_duplicates('index', take_last=False, inplace=True)\n",
      "ddaa_bad.drop('index', axis=1, inplace=True)"
     ],
     "language": "python",
     "metadata": {},
     "outputs": [],
     "prompt_number": 9
    },
    {
     "cell_type": "code",
     "collapsed": false,
     "input": [
      "print ddaa_bad.index.get_duplicates()\n",
      "print ddaa_raw.index.get_duplicates()"
     ],
     "language": "python",
     "metadata": {},
     "outputs": [
      {
       "output_type": "stream",
       "stream": "stdout",
       "text": [
        "[]\n",
        "[]\n"
       ]
      }
     ],
     "prompt_number": 10
    },
    {
     "cell_type": "code",
     "collapsed": false,
     "input": [
      "#ddaa_bad.drop('Fecha de Resoluci\u00f3n/ Env\u00edo al Juez/ Inscripci\u00f3n C.B.R.', axis=1, inplace=True)"
     ],
     "language": "python",
     "metadata": {},
     "outputs": [],
     "prompt_number": 11
    },
    {
     "cell_type": "code",
     "collapsed": false,
     "input": [
      "lost = np.setdiff1d(ddaa_raw.index.values,ddaa_bad.index.values)\n",
      "ddaa_lost = ddaa_raw.ix[lost]\n",
      "ddaa_lost.to_csv('Derechos_Concedidos_V_Region-xls-Petorca-raw_lost.csv')"
     ],
     "language": "python",
     "metadata": {},
     "outputs": [],
     "prompt_number": 12
    },
    {
     "cell_type": "code",
     "collapsed": false,
     "input": [
      "ddaa_bad.rename(columns={'Fecha de Resoluci\u00f3n/ Env\u00edo al Juez/ Inscripci\u00f3n C.B.R.': 'Fecha'}, inplace=True)"
     ],
     "language": "python",
     "metadata": {},
     "outputs": [],
     "prompt_number": 13
    },
    {
     "cell_type": "code",
     "collapsed": false,
     "input": [
      "ddaa_good = ddaa_bad.join(ddaa_raw['Fecha de Resoluci\u00f3n/ Env\u00edo al Juez/ Inscripci\u00f3n C.B.R.'])"
     ],
     "language": "python",
     "metadata": {},
     "outputs": [],
     "prompt_number": 14
    },
    {
     "cell_type": "code",
     "collapsed": false,
     "input": [
      "#ddaa_good[['Fecha de Resoluci\u00f3n/ Env\u00edo al Juez/ Inscripci\u00f3n C.B.R.','Fecha']].tail()"
     ],
     "language": "python",
     "metadata": {},
     "outputs": [],
     "prompt_number": 15
    },
    {
     "cell_type": "code",
     "collapsed": false,
     "input": [
      "ddaa_good.drop('Fecha', axis=1, inplace=True)"
     ],
     "language": "python",
     "metadata": {},
     "outputs": [],
     "prompt_number": 16
    },
    {
     "cell_type": "code",
     "collapsed": false,
     "input": [
      "ddaa_good.to_csv('Derechos_Concedidos_V_Region-xls-Petorca-WGS84-csv-V4.csv')"
     ],
     "language": "python",
     "metadata": {},
     "outputs": [],
     "prompt_number": 17
    },
    {
     "cell_type": "code",
     "collapsed": false,
     "input": [
      "print len(ddaa_good['Fecha de Resoluci\u00f3n/ Env\u00edo al Juez/ Inscripci\u00f3n C.B.R.'])"
     ],
     "language": "python",
     "metadata": {},
     "outputs": [
      {
       "output_type": "stream",
       "stream": "stdout",
       "text": [
        "2970\n"
       ]
      }
     ],
     "prompt_number": 18
    },
    {
     "cell_type": "code",
     "collapsed": false,
     "input": [
      "#ddaa_good['Fecha de Resoluci\u00f3n/ Env\u00edo al Juez/ Inscripci\u00f3n C.B.R.'].describe()"
     ],
     "language": "python",
     "metadata": {},
     "outputs": [],
     "prompt_number": 19
    },
    {
     "cell_type": "code",
     "collapsed": false,
     "input": [
      "#ddaa_good.to_csv('Derechos_Concedidos_V_Region-xls-Petorca-WGS84-csv-V4.csv')"
     ],
     "language": "python",
     "metadata": {},
     "outputs": [],
     "prompt_number": 20
    },
    {
     "cell_type": "code",
     "collapsed": false,
     "input": [
      "#%qtconsole"
     ],
     "language": "python",
     "metadata": {},
     "outputs": [],
     "prompt_number": 21
    },
    {
     "cell_type": "code",
     "collapsed": false,
     "input": [
      "#ddaa_raw['indice'] = ddaa_raw.apply(lambda x: x['C\u00f3digo de \\nExpediente'] + ',' + str(x['N\u00b0 \\nSolicitud']), 1)"
     ],
     "language": "python",
     "metadata": {},
     "outputs": [],
     "prompt_number": 22
    },
    {
     "cell_type": "code",
     "collapsed": false,
     "input": [
      "#ddaa_bad.columns"
     ],
     "language": "python",
     "metadata": {},
     "outputs": [],
     "prompt_number": 23
    },
    {
     "cell_type": "code",
     "collapsed": false,
     "input": [
      "#ddaa_raw.to_csv('test.csv')"
     ],
     "language": "python",
     "metadata": {},
     "outputs": [],
     "prompt_number": 24
    }
   ],
   "metadata": {}
  }
 ]
}